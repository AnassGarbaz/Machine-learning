{
  "nbformat": 4,
  "nbformat_minor": 0,
  "metadata": {
    "colab": {
      "name": "COVID-19 Prediction",
      "provenance": [],
      "collapsed_sections": []
    },
    "kernelspec": {
      "name": "python3",
      "display_name": "Python 3"
    }
  },
  "cells": [
    {
      "cell_type": "markdown",
      "metadata": {
        "id": "g9Jqg_RXWwMq"
      },
      "source": [
        "#I - Preparing Data :"
      ]
    },
    {
      "cell_type": "markdown",
      "metadata": {
        "id": "KtYXaxOFK1vL"
      },
      "source": [
        "---\n",
        "Import of model libraries and others for the management of dataframes like pandas ... etc.\n",
        "\n",
        "---"
      ]
    },
    {
      "cell_type": "code",
      "metadata": {
        "id": "_hslikVgE9aE",
        "colab": {
          "base_uri": "https://localhost:8080/",
          "height": 204
        },
        "outputId": "e6d7f7a0-7432-42e7-a278-446c74939f44"
      },
      "source": [
        "import pandas as pd\n",
        "import requests\n",
        "import io\n",
        "from sklearn import metrics\n",
        "from sklearn.neighbors import KNeighborsClassifier\n",
        "import numpy as np \n",
        "import seaborn as sns \n",
        "from sklearn.model_selection import train_test_split\n",
        "from sklearn.metrics import classification_report,confusion_matrix\n",
        "from sklearn.decomposition import PCA\n",
        "from sklearn import metrics\n",
        "import matplotlib.pyplot as plt\n",
        "from matplotlib.colors import ListedColormap\n",
        "from sklearn import svm\n",
        "from sklearn import tree\n",
        "import pydotplus\n",
        "from sklearn.tree import DecisionTreeClassifier\n",
        "import matplotlib.image as pltimg\n",
        "from sklearn.ensemble import RandomForestClassifier\n",
        "from sklearn.linear_model import LogisticRegression\n",
        "from sklearn.pipeline import Pipeline\n",
        "from statistics import mode \n",
        "from sklearn.metrics import f1_score\n",
        "# Downloading the csv file from  GitHub account\n",
        "\n",
        "url = \"https://raw.githubusercontent.com/ieee8023/covid-chestxray-dataset/master/metadata.csv\" \n",
        "download = requests.get(url).content\n",
        "\n",
        "# Reading the downloaded content and turning it into a pandas dataframe\n",
        "\n",
        "df = pd.read_csv(io.StringIO(download.decode('utf-8')))\n",
        "df = df[[\"age\",\"sex\",\"pO2_saturation\",\"temperature\",\"finding\"]]\n",
        "# Printing out the first 5 rows of the dataframe\n",
        "\n",
        "df.head()"
      ],
      "execution_count": null,
      "outputs": [
        {
          "output_type": "execute_result",
          "data": {
            "text/html": [
              "<div>\n",
              "<style scoped>\n",
              "    .dataframe tbody tr th:only-of-type {\n",
              "        vertical-align: middle;\n",
              "    }\n",
              "\n",
              "    .dataframe tbody tr th {\n",
              "        vertical-align: top;\n",
              "    }\n",
              "\n",
              "    .dataframe thead th {\n",
              "        text-align: right;\n",
              "    }\n",
              "</style>\n",
              "<table border=\"1\" class=\"dataframe\">\n",
              "  <thead>\n",
              "    <tr style=\"text-align: right;\">\n",
              "      <th></th>\n",
              "      <th>age</th>\n",
              "      <th>sex</th>\n",
              "      <th>pO2_saturation</th>\n",
              "      <th>temperature</th>\n",
              "      <th>finding</th>\n",
              "    </tr>\n",
              "  </thead>\n",
              "  <tbody>\n",
              "    <tr>\n",
              "      <th>0</th>\n",
              "      <td>65.0</td>\n",
              "      <td>M</td>\n",
              "      <td>NaN</td>\n",
              "      <td>NaN</td>\n",
              "      <td>Pneumonia/Viral/COVID-19</td>\n",
              "    </tr>\n",
              "    <tr>\n",
              "      <th>1</th>\n",
              "      <td>65.0</td>\n",
              "      <td>M</td>\n",
              "      <td>NaN</td>\n",
              "      <td>NaN</td>\n",
              "      <td>Pneumonia/Viral/COVID-19</td>\n",
              "    </tr>\n",
              "    <tr>\n",
              "      <th>2</th>\n",
              "      <td>65.0</td>\n",
              "      <td>M</td>\n",
              "      <td>NaN</td>\n",
              "      <td>NaN</td>\n",
              "      <td>Pneumonia/Viral/COVID-19</td>\n",
              "    </tr>\n",
              "    <tr>\n",
              "      <th>3</th>\n",
              "      <td>65.0</td>\n",
              "      <td>M</td>\n",
              "      <td>NaN</td>\n",
              "      <td>NaN</td>\n",
              "      <td>Pneumonia/Viral/COVID-19</td>\n",
              "    </tr>\n",
              "    <tr>\n",
              "      <th>4</th>\n",
              "      <td>52.0</td>\n",
              "      <td>F</td>\n",
              "      <td>NaN</td>\n",
              "      <td>NaN</td>\n",
              "      <td>Pneumonia/Viral/COVID-19</td>\n",
              "    </tr>\n",
              "  </tbody>\n",
              "</table>\n",
              "</div>"
            ],
            "text/plain": [
              "    age sex  pO2_saturation  temperature                   finding\n",
              "0  65.0   M             NaN          NaN  Pneumonia/Viral/COVID-19\n",
              "1  65.0   M             NaN          NaN  Pneumonia/Viral/COVID-19\n",
              "2  65.0   M             NaN          NaN  Pneumonia/Viral/COVID-19\n",
              "3  65.0   M             NaN          NaN  Pneumonia/Viral/COVID-19\n",
              "4  52.0   F             NaN          NaN  Pneumonia/Viral/COVID-19"
            ]
          },
          "metadata": {
            "tags": []
          },
          "execution_count": 2
        }
      ]
    },
    {
      "cell_type": "markdown",
      "metadata": {
        "id": "wopWl6bAZllG"
      },
      "source": [
        "---\n",
        "\n",
        "Lets list the data types for each column\n",
        "\n",
        "---"
      ]
    },
    {
      "cell_type": "code",
      "metadata": {
        "id": "kR9V7TurZhjW",
        "colab": {
          "base_uri": "https://localhost:8080/"
        },
        "outputId": "4ece610e-f5e8-41e4-b3f3-cb1a1225b7ac"
      },
      "source": [
        "df.dtypes"
      ],
      "execution_count": null,
      "outputs": [
        {
          "output_type": "execute_result",
          "data": {
            "text/plain": [
              "age               float64\n",
              "sex                object\n",
              "pO2_saturation    float64\n",
              "temperature       float64\n",
              "finding            object\n",
              "dtype: object"
            ]
          },
          "metadata": {
            "tags": []
          },
          "execution_count": 4
        }
      ]
    },
    {
      "cell_type": "markdown",
      "metadata": {
        "id": "_nNbrTf_Ockn"
      },
      "source": [
        "---\n",
        "    \n",
        "    \n",
        "  Descriptive statistics include those that summarize the central tendency, dispersion, and shape of the distribution of a data set, excluding NaN values.\n",
        "\n",
        "---"
      ]
    },
    {
      "cell_type": "code",
      "metadata": {
        "id": "KaNxsaVmNNLS",
        "colab": {
          "base_uri": "https://localhost:8080/",
          "height": 297
        },
        "outputId": "e7507779-61ba-4551-876a-22322c930b41"
      },
      "source": [
        "df.describe()"
      ],
      "execution_count": null,
      "outputs": [
        {
          "output_type": "execute_result",
          "data": {
            "text/html": [
              "<div>\n",
              "<style scoped>\n",
              "    .dataframe tbody tr th:only-of-type {\n",
              "        vertical-align: middle;\n",
              "    }\n",
              "\n",
              "    .dataframe tbody tr th {\n",
              "        vertical-align: top;\n",
              "    }\n",
              "\n",
              "    .dataframe thead th {\n",
              "        text-align: right;\n",
              "    }\n",
              "</style>\n",
              "<table border=\"1\" class=\"dataframe\">\n",
              "  <thead>\n",
              "    <tr style=\"text-align: right;\">\n",
              "      <th></th>\n",
              "      <th>age</th>\n",
              "      <th>pO2_saturation</th>\n",
              "      <th>temperature</th>\n",
              "    </tr>\n",
              "  </thead>\n",
              "  <tbody>\n",
              "    <tr>\n",
              "      <th>count</th>\n",
              "      <td>713.000000</td>\n",
              "      <td>119.000000</td>\n",
              "      <td>78.000000</td>\n",
              "    </tr>\n",
              "    <tr>\n",
              "      <th>mean</th>\n",
              "      <td>53.534362</td>\n",
              "      <td>78.475630</td>\n",
              "      <td>38.898718</td>\n",
              "    </tr>\n",
              "    <tr>\n",
              "      <th>std</th>\n",
              "      <td>16.949007</td>\n",
              "      <td>38.742573</td>\n",
              "      <td>6.494383</td>\n",
              "    </tr>\n",
              "    <tr>\n",
              "      <th>min</th>\n",
              "      <td>18.000000</td>\n",
              "      <td>20.000000</td>\n",
              "      <td>36.000000</td>\n",
              "    </tr>\n",
              "    <tr>\n",
              "      <th>25%</th>\n",
              "      <td>40.000000</td>\n",
              "      <td>55.000000</td>\n",
              "      <td>37.800000</td>\n",
              "    </tr>\n",
              "    <tr>\n",
              "      <th>50%</th>\n",
              "      <td>54.000000</td>\n",
              "      <td>85.000000</td>\n",
              "      <td>38.150000</td>\n",
              "    </tr>\n",
              "    <tr>\n",
              "      <th>75%</th>\n",
              "      <td>68.000000</td>\n",
              "      <td>95.000000</td>\n",
              "      <td>38.975000</td>\n",
              "    </tr>\n",
              "    <tr>\n",
              "      <th>max</th>\n",
              "      <td>94.000000</td>\n",
              "      <td>340.000000</td>\n",
              "      <td>95.000000</td>\n",
              "    </tr>\n",
              "  </tbody>\n",
              "</table>\n",
              "</div>"
            ],
            "text/plain": [
              "              age  pO2_saturation  temperature\n",
              "count  713.000000      119.000000    78.000000\n",
              "mean    53.534362       78.475630    38.898718\n",
              "std     16.949007       38.742573     6.494383\n",
              "min     18.000000       20.000000    36.000000\n",
              "25%     40.000000       55.000000    37.800000\n",
              "50%     54.000000       85.000000    38.150000\n",
              "75%     68.000000       95.000000    38.975000\n",
              "max     94.000000      340.000000    95.000000"
            ]
          },
          "metadata": {
            "tags": []
          },
          "execution_count": 5
        }
      ]
    },
    {
      "cell_type": "markdown",
      "metadata": {
        "id": "ES5_IudVSlUe"
      },
      "source": [
        "---\n",
        "\n",
        "Let's see now how many Nan values foreach column.\n",
        "\n",
        "---"
      ]
    },
    {
      "cell_type": "code",
      "metadata": {
        "id": "SvoZfKQfXhXB",
        "colab": {
          "base_uri": "https://localhost:8080/"
        },
        "outputId": "fb1b7705-6aaf-4898-bb5d-1fde48b0ecae"
      },
      "source": [
        "missing_data = df.isnull()\n",
        "for column in missing_data.columns.values.tolist():\n",
        "    print(column)\n",
        "    print (missing_data[column].value_counts())\n",
        "    print(\"\") "
      ],
      "execution_count": null,
      "outputs": [
        {
          "output_type": "stream",
          "text": [
            "age\n",
            "False    713\n",
            "True     237\n",
            "Name: age, dtype: int64\n",
            "\n",
            "sex\n",
            "False    870\n",
            "True      80\n",
            "Name: sex, dtype: int64\n",
            "\n",
            "pO2_saturation\n",
            "True     831\n",
            "False    119\n",
            "Name: pO2_saturation, dtype: int64\n",
            "\n",
            "temperature\n",
            "True     872\n",
            "False     78\n",
            "Name: temperature, dtype: int64\n",
            "\n",
            "finding\n",
            "False    950\n",
            "Name: finding, dtype: int64\n",
            "\n"
          ],
          "name": "stdout"
        }
      ]
    },
    {
      "cell_type": "markdown",
      "metadata": {
        "id": "HYF74abNTP0G"
      },
      "source": [
        "---\n",
        "\n",
        "We gonna  remplace every missing value by their columns mean.\n",
        "\n",
        "---"
      ]
    },
    {
      "cell_type": "code",
      "metadata": {
        "id": "vf7Mc3scb7Cu"
      },
      "source": [
        "\n",
        "#replacing the mean of age on missing values. \n",
        "avg_age_loss = df[\"age\"].astype(\"float\").mean(axis=0)\n",
        "df[\"age\"].replace(np.nan, avg_age_loss, inplace=True)\n",
        "\n",
        "#replacing the mean of pO2_saturation on missing values. \n",
        "avg_pO2_saturation_loss = df[\"pO2_saturation\"].astype(\"float\").mean(axis=0)\n",
        "df[\"pO2_saturation\"].replace(np.nan, avg_pO2_saturation_loss, inplace=True)\n",
        "\n",
        "#replacing the mean of temperature on missing values. \n",
        "avg_temperature_loss = df[\"temperature\"].astype(\"float\").mean(axis=0)\n",
        "df[\"temperature\"].replace(np.nan, avg_temperature_loss, inplace=True)"
      ],
      "execution_count": null,
      "outputs": []
    },
    {
      "cell_type": "markdown",
      "metadata": {
        "id": "fV4ioO_DT6ZJ"
      },
      "source": [
        "  ---\n",
        "  \n",
        "  Now, we remove the missing values left. and reset the index of data \n",
        "\n",
        "  ---"
      ]
    },
    {
      "cell_type": "code",
      "metadata": {
        "id": "sF8Qmg8u0CJl"
      },
      "source": [
        "df = df.dropna()\n",
        "# reset index, because we droped 80 rows\n",
        "df.reset_index(drop=True, inplace=True)\n"
      ],
      "execution_count": null,
      "outputs": []
    },
    {
      "cell_type": "markdown",
      "metadata": {
        "id": "aMLUAP5xUcjV"
      },
      "source": [
        "---\n",
        "\n",
        "verify that we don't have any more missing values.\n",
        "\n",
        "---"
      ]
    },
    {
      "cell_type": "code",
      "metadata": {
        "id": "FDSVUJQa1V3M",
        "colab": {
          "base_uri": "https://localhost:8080/"
        },
        "outputId": "046d7656-e560-4f1f-dac0-91638aa2aeac"
      },
      "source": [
        "print(\"is there missing values?  : \\n\", df.isnull().values.any())"
      ],
      "execution_count": null,
      "outputs": [
        {
          "output_type": "stream",
          "text": [
            "is there missing values?  : \n",
            " False\n"
          ],
          "name": "stdout"
        }
      ]
    },
    {
      "cell_type": "markdown",
      "metadata": {
        "id": "Y-iJXIBjUski"
      },
      "source": [
        "---\n",
        " \n",
        "Change the categorical values to numerical on sex column.\n",
        "\n",
        "---"
      ]
    },
    {
      "cell_type": "code",
      "metadata": {
        "id": "_x1LsFU24GS-",
        "colab": {
          "base_uri": "https://localhost:8080/",
          "height": 204
        },
        "outputId": "72ecc2dd-bba1-43d7-b334-41f4b713265b"
      },
      "source": [
        "#using get_dummies to get numerical. \n",
        "dummy_variable_1 = pd.get_dummies(df[\"sex\"])\n",
        "dummy_variable_1.head()"
      ],
      "execution_count": null,
      "outputs": [
        {
          "output_type": "execute_result",
          "data": {
            "text/html": [
              "<div>\n",
              "<style scoped>\n",
              "    .dataframe tbody tr th:only-of-type {\n",
              "        vertical-align: middle;\n",
              "    }\n",
              "\n",
              "    .dataframe tbody tr th {\n",
              "        vertical-align: top;\n",
              "    }\n",
              "\n",
              "    .dataframe thead th {\n",
              "        text-align: right;\n",
              "    }\n",
              "</style>\n",
              "<table border=\"1\" class=\"dataframe\">\n",
              "  <thead>\n",
              "    <tr style=\"text-align: right;\">\n",
              "      <th></th>\n",
              "      <th>F</th>\n",
              "      <th>M</th>\n",
              "    </tr>\n",
              "  </thead>\n",
              "  <tbody>\n",
              "    <tr>\n",
              "      <th>0</th>\n",
              "      <td>0</td>\n",
              "      <td>1</td>\n",
              "    </tr>\n",
              "    <tr>\n",
              "      <th>1</th>\n",
              "      <td>0</td>\n",
              "      <td>1</td>\n",
              "    </tr>\n",
              "    <tr>\n",
              "      <th>2</th>\n",
              "      <td>0</td>\n",
              "      <td>1</td>\n",
              "    </tr>\n",
              "    <tr>\n",
              "      <th>3</th>\n",
              "      <td>0</td>\n",
              "      <td>1</td>\n",
              "    </tr>\n",
              "    <tr>\n",
              "      <th>4</th>\n",
              "      <td>1</td>\n",
              "      <td>0</td>\n",
              "    </tr>\n",
              "  </tbody>\n",
              "</table>\n",
              "</div>"
            ],
            "text/plain": [
              "   F  M\n",
              "0  0  1\n",
              "1  0  1\n",
              "2  0  1\n",
              "3  0  1\n",
              "4  1  0"
            ]
          },
          "metadata": {
            "tags": []
          },
          "execution_count": 8
        }
      ]
    },
    {
      "cell_type": "markdown",
      "metadata": {
        "id": "W76YGSmhVLaM"
      },
      "source": [
        "---\n",
        "\n",
        "We have to concat new sex column to the data and removing the old sex column.\n",
        "\n",
        "---"
      ]
    },
    {
      "cell_type": "code",
      "metadata": {
        "id": "Hlzrxg1IcHm9"
      },
      "source": [
        "# merge data frame \"df\" and \"dummy_variable_1\" \n",
        "df = pd.concat([dummy_variable_1,df], axis=1)\n",
        "\n",
        "# drop original column \"fuel-type\" from \"df\"\n",
        "df.drop(\"sex\", axis = 1, inplace=True)"
      ],
      "execution_count": null,
      "outputs": []
    },
    {
      "cell_type": "markdown",
      "metadata": {
        "id": "mWHYVIGoVgHT"
      },
      "source": [
        "---\n",
        "\n",
        "Changing the finding column by 0 and 1.\n",
        "\n",
        "---"
      ]
    },
    {
      "cell_type": "code",
      "metadata": {
        "id": "A7xPl3NbdZeU",
        "colab": {
          "base_uri": "https://localhost:8080/"
        },
        "outputId": "23065b44-a26c-4893-8ed5-a4e17df59d9b"
      },
      "source": [
        "m = df['finding'].count()\n",
        "for i in range(0,m):\n",
        "  if df['finding'][i]== \"Pneumonia/Viral/COVID-19\":\n",
        "    df['finding'][i] = 1\n",
        "  else :\n",
        "    df['finding'][i] = 0"
      ],
      "execution_count": null,
      "outputs": [
        {
          "output_type": "stream",
          "text": [
            "/usr/local/lib/python3.6/dist-packages/ipykernel_launcher.py:4: SettingWithCopyWarning: \n",
            "A value is trying to be set on a copy of a slice from a DataFrame\n",
            "\n",
            "See the caveats in the documentation: https://pandas.pydata.org/pandas-docs/stable/user_guide/indexing.html#returning-a-view-versus-a-copy\n",
            "  after removing the cwd from sys.path.\n",
            "/usr/local/lib/python3.6/dist-packages/ipykernel_launcher.py:6: SettingWithCopyWarning: \n",
            "A value is trying to be set on a copy of a slice from a DataFrame\n",
            "\n",
            "See the caveats in the documentation: https://pandas.pydata.org/pandas-docs/stable/user_guide/indexing.html#returning-a-view-versus-a-copy\n",
            "  \n"
          ],
          "name": "stderr"
        }
      ]
    },
    {
      "cell_type": "markdown",
      "metadata": {
        "id": "OSM5rAIGV4BA"
      },
      "source": [
        "---\n",
        "\n",
        "Let's see now the counts of 0 and 1.\n",
        "\n",
        "---"
      ]
    },
    {
      "cell_type": "code",
      "metadata": {
        "id": "38b-qvhOgKcC",
        "colab": {
          "base_uri": "https://localhost:8080/"
        },
        "outputId": "1f537d56-f078-4094-f392-06b1502e45c9"
      },
      "source": [
        "df['finding'].value_counts()"
      ],
      "execution_count": null,
      "outputs": [
        {
          "output_type": "execute_result",
          "data": {
            "text/plain": [
              "1    521\n",
              "0    349\n",
              "Name: finding, dtype: int64"
            ]
          },
          "metadata": {
            "tags": []
          },
          "execution_count": 15
        }
      ]
    },
    {
      "cell_type": "markdown",
      "metadata": {
        "id": "gFSWB-KnWZpI"
      },
      "source": [
        "---\n",
        "\n",
        "The final prepared data.\n",
        "\n",
        "---"
      ]
    },
    {
      "cell_type": "code",
      "metadata": {
        "id": "kx5Zw4NElyaB",
        "colab": {
          "base_uri": "https://localhost:8080/",
          "height": 204
        },
        "outputId": "3c8eda0e-f303-426f-c8c2-f717dca53f4d"
      },
      "source": [
        "df.tail()\n"
      ],
      "execution_count": null,
      "outputs": [
        {
          "output_type": "execute_result",
          "data": {
            "text/html": [
              "<div>\n",
              "<style scoped>\n",
              "    .dataframe tbody tr th:only-of-type {\n",
              "        vertical-align: middle;\n",
              "    }\n",
              "\n",
              "    .dataframe tbody tr th {\n",
              "        vertical-align: top;\n",
              "    }\n",
              "\n",
              "    .dataframe thead th {\n",
              "        text-align: right;\n",
              "    }\n",
              "</style>\n",
              "<table border=\"1\" class=\"dataframe\">\n",
              "  <thead>\n",
              "    <tr style=\"text-align: right;\">\n",
              "      <th></th>\n",
              "      <th>F</th>\n",
              "      <th>M</th>\n",
              "      <th>age</th>\n",
              "      <th>pO2_saturation</th>\n",
              "      <th>temperature</th>\n",
              "      <th>finding</th>\n",
              "    </tr>\n",
              "  </thead>\n",
              "  <tbody>\n",
              "    <tr>\n",
              "      <th>865</th>\n",
              "      <td>1</td>\n",
              "      <td>0</td>\n",
              "      <td>40.0</td>\n",
              "      <td>78.47563</td>\n",
              "      <td>38.898718</td>\n",
              "      <td>0</td>\n",
              "    </tr>\n",
              "    <tr>\n",
              "      <th>866</th>\n",
              "      <td>1</td>\n",
              "      <td>0</td>\n",
              "      <td>40.0</td>\n",
              "      <td>78.47563</td>\n",
              "      <td>38.898718</td>\n",
              "      <td>0</td>\n",
              "    </tr>\n",
              "    <tr>\n",
              "      <th>867</th>\n",
              "      <td>0</td>\n",
              "      <td>1</td>\n",
              "      <td>26.0</td>\n",
              "      <td>78.47563</td>\n",
              "      <td>38.898718</td>\n",
              "      <td>0</td>\n",
              "    </tr>\n",
              "    <tr>\n",
              "      <th>868</th>\n",
              "      <td>0</td>\n",
              "      <td>1</td>\n",
              "      <td>50.0</td>\n",
              "      <td>78.47563</td>\n",
              "      <td>38.898718</td>\n",
              "      <td>0</td>\n",
              "    </tr>\n",
              "    <tr>\n",
              "      <th>869</th>\n",
              "      <td>0</td>\n",
              "      <td>1</td>\n",
              "      <td>50.0</td>\n",
              "      <td>78.47563</td>\n",
              "      <td>38.898718</td>\n",
              "      <td>0</td>\n",
              "    </tr>\n",
              "  </tbody>\n",
              "</table>\n",
              "</div>"
            ],
            "text/plain": [
              "     F  M   age  pO2_saturation  temperature finding\n",
              "865  1  0  40.0        78.47563    38.898718       0\n",
              "866  1  0  40.0        78.47563    38.898718       0\n",
              "867  0  1  26.0        78.47563    38.898718       0\n",
              "868  0  1  50.0        78.47563    38.898718       0\n",
              "869  0  1  50.0        78.47563    38.898718       0"
            ]
          },
          "metadata": {
            "tags": []
          },
          "execution_count": 16
        }
      ]
    },
    {
      "cell_type": "markdown",
      "metadata": {
        "id": "IBKcwM8WYv-c"
      },
      "source": [
        "---\n",
        "\n",
        "Visualizing data  distribution.\n",
        "\n",
        "---"
      ]
    },
    {
      "cell_type": "code",
      "metadata": {
        "colab": {
          "base_uri": "https://localhost:8080/",
          "height": 920
        },
        "id": "MM1EM7e55Hif",
        "outputId": "34af963d-c08c-429d-d16a-efb58aede4d9"
      },
      "source": [
        "\n",
        "sns.pairplot(df, hue='finding')"
      ],
      "execution_count": null,
      "outputs": [
        {
          "output_type": "execute_result",
          "data": {
            "text/plain": [
              "<seaborn.axisgrid.PairGrid at 0x7fda863f1940>"
            ]
          },
          "metadata": {
            "tags": []
          },
          "execution_count": 17
        },
        {
          "output_type": "display_data",
          "data": {
            "image/png": "[encoded data removed]",
            "text/plain": [
              "<Figure size 942.875x900 with 30 Axes>"
            ]
          },
          "metadata": {
            "tags": [],
            "needs_background": "light"
          }
        }
      ]
    },
    {
      "cell_type": "markdown",
      "metadata": {
        "id": "pbBquS1WQ7M4"
      },
      "source": [
        "# II - Models : "
      ]
    },
    {
      "cell_type": "markdown",
      "metadata": {
        "id": "TG5XpxuDRdsD"
      },
      "source": [
        "##1 - KNN"
      ]
    },
    {
      "cell_type": "markdown",
      "metadata": {
        "id": "jzbKF8FhcMT8"
      },
      "source": [
        "---\n",
        "\n",
        "Splitting the data into train and test set.\n",
        "\n",
        "---"
      ]
    },
    {
      "cell_type": "code",
      "metadata": {
        "id": "Mq35qtsbl1bG",
        "colab": {
          "base_uri": "https://localhost:8080/"
        },
        "outputId": "940fa0b9-c7b7-452a-bd12-9ce783396b6e"
      },
      "source": [
        "#X = pd.DataFrame(df.iloc[:,:-1])\n",
        "#Y = pd.DataFrame(df.iloc[:,-1])\n",
        "Xknn1 = df.iloc[:,:-1]\n",
        "Yknn1 = df['finding']\n",
        "x_train, x_test, y_train, y_test = train_test_split(Xknn1, Yknn1, test_size=0.20, random_state=4)\n",
        "#make the y values be int\n",
        "y_train = y_train.astype('int')\n",
        "y_test = y_test.astype('int')\n",
        "print(\"number of test samples:\", x_test.shape[0])\n",
        "print(\"number of training samples:\",x_train.shape[0])"
      ],
      "execution_count": null,
      "outputs": [
        {
          "output_type": "stream",
          "text": [
            "number of test samples: 174\n",
            "number of training samples: 696\n"
          ],
          "name": "stdout"
        }
      ]
    },
    {
      "cell_type": "markdown",
      "metadata": {
        "id": "hL_y2G8Dc6nZ"
      },
      "source": [
        "---\n",
        "calculating the error for every K to see the best choice.\n",
        "\n",
        "---"
      ]
    },
    {
      "cell_type": "code",
      "metadata": {
        "id": "ujjn-MXWGICv"
      },
      "source": [
        "error_rate = []\n",
        "# Might take some time\n",
        "for i in range(1,40):\n",
        "    #calling the model for k = i \n",
        "    knntest = KNeighborsClassifier(n_neighbors=i)\n",
        "    #fitting the model\n",
        "    knntest.fit(x_train,y_train)\n",
        "    #making the prediction for x_test\n",
        "    pred_i = knntest.predict(x_test)\n",
        "    error_rate.append(np.mean(pred_i != y_test))"
      ],
      "execution_count": null,
      "outputs": []
    },
    {
      "cell_type": "markdown",
      "metadata": {
        "id": "RhMSQbUBeIPe"
      },
      "source": [
        "---\n",
        "\n",
        "visualize the error by k.\n",
        "\n",
        "---"
      ]
    },
    {
      "cell_type": "code",
      "metadata": {
        "id": "BG_7Xm-iLJtR",
        "colab": {
          "base_uri": "https://localhost:8080/",
          "height": 421
        },
        "outputId": "efb9ceff-a4c0-448c-94a0-b37ce7d26d53"
      },
      "source": [
        "plt.figure(figsize=(10,6))\n",
        "plt.plot(range(1,40),error_rate,color='blue', linestyle='dashed', marker='o',\n",
        "         markerfacecolor='red', markersize=10)\n",
        "plt.title('Error Rate vs. K Value')\n",
        "plt.xlabel('K')\n",
        "plt.ylabel('Error Rate')"
      ],
      "execution_count": null,
      "outputs": [
        {
          "output_type": "execute_result",
          "data": {
            "text/plain": [
              "Text(0, 0.5, 'Error Rate')"
            ]
          },
          "metadata": {
            "tags": []
          },
          "execution_count": 20
        },
        {
          "output_type": "display_data",
          "data": {
            "image/png": "[encoded data removed]",
            "text/plain": [
              "<Figure size 720x432 with 1 Axes>"
            ]
          },
          "metadata": {
            "tags": [],
            "needs_background": "light"
          }
        }
      ]
    },
    {
      "cell_type": "markdown",
      "metadata": {
        "id": "_j1z2bS0ewEC"
      },
      "source": [
        "---\n",
        "\n",
        "We call the model for k = 9  and we fit it.\n",
        "\n",
        "---"
      ]
    },
    {
      "cell_type": "code",
      "metadata": {
        "id": "wePGA48Molkx",
        "colab": {
          "base_uri": "https://localhost:8080/"
        },
        "outputId": "e968bc91-3a7c-4a49-9d3e-abbc3d79a8ce"
      },
      "source": [
        "knn1 = KNeighborsClassifier(n_neighbors = 9)\n",
        "knn1.fit(x_train,y_train)\n",
        "y_pred = knn1.predict(x_test)\n",
        "print(metrics.accuracy_score(y_test, y_pred))"
      ],
      "execution_count": null,
      "outputs": [
        {
          "output_type": "stream",
          "text": [
            "0.7471264367816092\n"
          ],
          "name": "stdout"
        }
      ]
    },
    {
      "cell_type": "markdown",
      "metadata": {
        "id": "XapG0kZpf96L"
      },
      "source": [
        "---\n",
        "\n",
        "display the precision, recall and the f1 score to see the performance.\n",
        "\n",
        "---"
      ]
    },
    {
      "cell_type": "code",
      "metadata": {
        "colab": {
          "base_uri": "https://localhost:8080/"
        },
        "id": "oBaZmE0e-d2_",
        "outputId": "57084916-7adb-44d6-d1c6-1e492c29180e"
      },
      "source": [
        "\n",
        "print(confusion_matrix(y_test,y_pred))\n",
        "print(classification_report(y_test,y_pred))\n"
      ],
      "execution_count": null,
      "outputs": [
        {
          "output_type": "stream",
          "text": [
            "[[48 25]\n",
            " [19 82]]\n",
            "              precision    recall  f1-score   support\n",
            "\n",
            "           0       0.72      0.66      0.69        73\n",
            "           1       0.77      0.81      0.79       101\n",
            "\n",
            "    accuracy                           0.75       174\n",
            "   macro avg       0.74      0.73      0.74       174\n",
            "weighted avg       0.75      0.75      0.75       174\n",
            "\n"
          ],
          "name": "stdout"
        }
      ]
    },
    {
      "cell_type": "markdown",
      "metadata": {
        "id": "VbFavqWxkSjk"
      },
      "source": [
        "---\n",
        "\n",
        "resplit the data using PCA for 2 to plot the decision boundry.\n",
        "\n",
        "---"
      ]
    },
    {
      "cell_type": "code",
      "metadata": {
        "colab": {
          "base_uri": "https://localhost:8080/"
        },
        "id": "iYS4SkQcTIX_",
        "outputId": "412fa72c-3990-48e4-a86a-3bdf128325c4"
      },
      "source": [
        "\n",
        "#X = pd.DataFrame(df.iloc[:,:-1])\n",
        "#Y = pd.DataFrame(df.iloc[:,-1])\n",
        "Xvis = df.iloc[:,:-1]\n",
        "Yvis = df['finding']\n",
        "pca = PCA(n_components=2).fit_transform(Xvis)\n",
        "x_train, x_test, y_train, y_test = train_test_split(pca, Yvis, test_size=0.20, random_state=4)\n",
        "y_train = y_train.astype('int')\n",
        "y_test = y_test.astype('int')\n",
        "print(\"number of test samples:\", x_test.shape[0])\n",
        "print(\"number of training samples:\",x_train.shape[0])"
      ],
      "execution_count": null,
      "outputs": [
        {
          "output_type": "stream",
          "text": [
            "number of test samples: 174\n",
            "number of training samples: 696\n"
          ],
          "name": "stdout"
        }
      ]
    },
    {
      "cell_type": "markdown",
      "metadata": {
        "id": "HN5d51SnkraP"
      },
      "source": [
        "---\n",
        "\n",
        "plotting the decision boundry.\n",
        "\n",
        "---"
      ]
    },
    {
      "cell_type": "code",
      "metadata": {
        "id": "zxG9hR5opVZ6",
        "colab": {
          "base_uri": "https://localhost:8080/",
          "height": 281
        },
        "outputId": "762774e3-4076-457b-9ed6-5b2323d861b8"
      },
      "source": [
        "\n",
        "knn = KNeighborsClassifier(n_neighbors = 9)\n",
        "knn.fit(x_train, y_train)\n",
        "x_min, x_max = x_train[:, 0].min() - 1, x_train[:, 0].max() + 1\n",
        "y_min, y_max = x_train[:, 1].min() - 1, x_train[:, 1].max() + 1\n",
        "h = .02\n",
        "xx, yy = np.meshgrid(np.arange(x_min, x_max, h), np.arange(y_min, y_max, h))\n",
        "\n",
        "\n",
        "# Create color maps\n",
        "cmap_light = ListedColormap(['#FFAAAA', '#AAFFAA'])\n",
        "cmap_bold = ListedColormap(['#FF0000', '#00FF00'])\n",
        "# predict class using data and kNN classifier\n",
        "Z = knn.predict(np.c_[xx.ravel(), yy.ravel()])\n",
        "\n",
        "# Put the result into a color plot\n",
        "Z = Z.reshape(xx.shape)\n",
        "plt.figure()\n",
        "plt.pcolormesh(xx, yy, Z, cmap=cmap_light)\n",
        "\n",
        "# Plot also the training points\n",
        "plt.scatter(x_train[:, 0], x_train[:, 1], c=y_train, cmap=cmap_bold)\n",
        "plt.xlim(xx.min(), xx.max())\n",
        "plt.ylim(yy.min(), yy.max())\n",
        "plt.title(\"3-Class classification (k = %i)\" % (9))\n",
        "plt.show()"
      ],
      "execution_count": null,
      "outputs": [
        {
          "output_type": "display_data",
          "data": {
            "image/png": "[encoded data removed]",
            "text/plain": [
              "<Figure size 432x288 with 1 Axes>"
            ]
          },
          "metadata": {
            "tags": [],
            "needs_background": "light"
          }
        }
      ]
    },
    {
      "cell_type": "markdown",
      "metadata": {
        "id": "IVysLiDklgsT"
      },
      "source": [
        "<h4> We repeat the same thing for other models </h4>"
      ]
    },
    {
      "cell_type": "markdown",
      "metadata": {
        "id": "QH13sHv7R0BV"
      },
      "source": [
        "2 - SVM"
      ]
    },
    {
      "cell_type": "code",
      "metadata": {
        "colab": {
          "base_uri": "https://localhost:8080/"
        },
        "id": "pkOa67fsmxOW",
        "outputId": "e4483b7e-b18e-491b-d7aa-9381762943f0"
      },
      "source": [
        "#X = pd.DataFrame(df.iloc[:,:-1])\n",
        "#Y = pd.DataFrame(df.iloc[:,-1])\n",
        "Xsvm = df.iloc[:,:-1]\n",
        "Ysvm = df.iloc[:,-1]\n",
        "x_train, x_test, y_train, y_test = train_test_split(Xsvm, Ysvm, test_size=0.20, random_state=4)\n",
        "y_train = y_train.astype('int')\n",
        "y_test = y_test.astype('int')\n",
        "print(\"number of test samples:\", x_test.shape[0])\n",
        "print(\"number of training samples:\",x_train.shape[0])"
      ],
      "execution_count": null,
      "outputs": [
        {
          "output_type": "stream",
          "text": [
            "number of test samples: 174\n",
            "number of training samples: 696\n"
          ],
          "name": "stdout"
        }
      ]
    },
    {
      "cell_type": "code",
      "metadata": {
        "colab": {
          "base_uri": "https://localhost:8080/"
        },
        "id": "H5Q2t4y4fOrw",
        "outputId": "6f501b59-bc35-4a04-b389-a375ac9de334"
      },
      "source": [
        "clf = svm.SVC()\n",
        "clf.fit(x_train, y_train)"
      ],
      "execution_count": null,
      "outputs": [
        {
          "output_type": "execute_result",
          "data": {
            "text/plain": [
              "SVC(C=1.0, break_ties=False, cache_size=200, class_weight=None, coef0=0.0,\n",
              "    decision_function_shape='ovr', degree=3, gamma='scale', kernel='rbf',\n",
              "    max_iter=-1, probability=False, random_state=None, shrinking=True,\n",
              "    tol=0.001, verbose=False)"
            ]
          },
          "metadata": {
            "tags": []
          },
          "execution_count": 15
        }
      ]
    },
    {
      "cell_type": "code",
      "metadata": {
        "id": "DIMT6VUwg3dR"
      },
      "source": [
        "svm_ypred = clf.predict(x_test)"
      ],
      "execution_count": null,
      "outputs": []
    },
    {
      "cell_type": "code",
      "metadata": {
        "colab": {
          "base_uri": "https://localhost:8080/"
        },
        "id": "hM8bJTcCsWS5",
        "outputId": "705881bc-aa5e-468e-a366-87ecc56c17cf"
      },
      "source": [
        "print(confusion_matrix(y_test,svm_ypred))\n",
        "print(classification_report(y_test,svm_ypred))"
      ],
      "execution_count": null,
      "outputs": [
        {
          "output_type": "stream",
          "text": [
            "[[11 62]\n",
            " [14 87]]\n",
            "              precision    recall  f1-score   support\n",
            "\n",
            "           0       0.44      0.15      0.22        73\n",
            "           1       0.58      0.86      0.70       101\n",
            "\n",
            "    accuracy                           0.56       174\n",
            "   macro avg       0.51      0.51      0.46       174\n",
            "weighted avg       0.52      0.56      0.50       174\n",
            "\n"
          ],
          "name": "stdout"
        }
      ]
    },
    {
      "cell_type": "code",
      "metadata": {
        "colab": {
          "base_uri": "https://localhost:8080/"
        },
        "id": "Vw69EzFoyoYv",
        "outputId": "12b907c6-df04-4b92-dcd0-7739e5417c71"
      },
      "source": [
        "Xvis = df.iloc[:,:-1]\n",
        "Yvis = df['finding']\n",
        "pca = PCA(n_components=2).fit_transform(Xvis)\n",
        "x_train, x_test, y_train, y_test = train_test_split(pca, Yvis, test_size=0.20, random_state=4)\n",
        "y_train = y_train.astype('int')\n",
        "y_test = y_test.astype('int')\n",
        "print(\"number of test samples:\", x_test.shape[0])\n",
        "print(\"number of training samples:\",x_train.shape[0])"
      ],
      "execution_count": null,
      "outputs": [
        {
          "output_type": "stream",
          "text": [
            "number of test samples: 174\n",
            "number of training samples: 696\n"
          ],
          "name": "stdout"
        }
      ]
    },
    {
      "cell_type": "code",
      "metadata": {
        "colab": {
          "base_uri": "https://localhost:8080/",
          "height": 281
        },
        "id": "NMUE4IB4xCF8",
        "outputId": "228b2b93-0e18-4959-caa3-53a5225e8048"
      },
      "source": [
        "\n",
        "clf = svm.SVC()\n",
        "clf.fit(x_train, y_train)\n",
        "x_min, x_max = x_train[:, 0].min() - 1, x_train[:, 0].max() + 1\n",
        "y_min, y_max = x_train[:, 1].min() - 1, x_train[:, 1].max() + 1\n",
        "h = .02\n",
        "xx, yy = np.meshgrid(np.arange(x_min, x_max, h), np.arange(y_min, y_max, h))\n",
        "\n",
        "\n",
        "# Create color maps\n",
        "cmap_light = ListedColormap(['#FFAAAA', '#AAFFAA'])\n",
        "cmap_bold = ListedColormap(['#FF0000', '#00FF00'])\n",
        "# predict class using data and kNN classifier\n",
        "Z = clf.predict(np.c_[xx.ravel(), yy.ravel()])\n",
        "\n",
        "# Put the result into a color plot\n",
        "Z = Z.reshape(xx.shape)\n",
        "plt.figure()\n",
        "plt.pcolormesh(xx, yy, Z, cmap=cmap_light)\n",
        "\n",
        "# Plot also the training points\n",
        "plt.scatter(x_train[:, 0], x_train[:, 1], c=y_train, cmap=cmap_bold)\n",
        "plt.xlim(xx.min(), xx.max())\n",
        "plt.ylim(yy.min(), yy.max())\n",
        "plt.title(\"2-Class classification \" )\n",
        "plt.show()"
      ],
      "execution_count": null,
      "outputs": [
        {
          "output_type": "display_data",
          "data": {
            "image/png": "[encoded data removed]",
            "text/plain": [
              "<Figure size 432x288 with 1 Axes>"
            ]
          },
          "metadata": {
            "tags": [],
            "needs_background": "light"
          }
        }
      ]
    },
    {
      "cell_type": "markdown",
      "metadata": {
        "id": "T3TQYCHrE987"
      },
      "source": [
        "##3 - Decision Tree : "
      ]
    },
    {
      "cell_type": "code",
      "metadata": {
        "colab": {
          "base_uri": "https://localhost:8080/"
        },
        "id": "Wd_eQov9FV1v",
        "outputId": "5ef3b20d-d15a-4494-abeb-23afa6d2bb3f"
      },
      "source": [
        "Xtree = df.iloc[:,:-1]\n",
        "Ytree = df.iloc[:,-1]\n",
        "x_train, x_test, y_train, y_test = train_test_split(Xtree, Ytree, test_size=0.20, random_state=4)\n",
        "y_train = y_train.astype('int')\n",
        "y_test = y_test.astype('int')\n",
        "print(\"number of test samples:\", x_test.shape[0])\n",
        "print(\"number of training samples:\",x_train.shape[0])"
      ],
      "execution_count": null,
      "outputs": [
        {
          "output_type": "stream",
          "text": [
            "number of test samples: 174\n",
            "number of training samples: 696\n"
          ],
          "name": "stdout"
        }
      ]
    },
    {
      "cell_type": "markdown",
      "metadata": {
        "id": "aR06G7Hpluy2"
      },
      "source": [
        "---\n",
        "\n",
        "let's display the decision tree.\n",
        "\n",
        "---"
      ]
    },
    {
      "cell_type": "code",
      "metadata": {
        "colab": {
          "base_uri": "https://localhost:8080/",
          "height": 210
        },
        "id": "dvnDYnMoFPp3",
        "outputId": "46a6becb-b939-41c8-fc12-5fc8ffbe5f96"
      },
      "source": [
        "dtree = DecisionTreeClassifier()\n",
        "dtree = dtree.fit(x_train, y_train)\n",
        "data = tree.export_graphviz(dtree, out_file=None, feature_names=x_train.columns)\n",
        "graph = pydotplus.graph_from_dot_data(data)\n",
        "graph.write_png('mydecisiontree.png')\n",
        "\n",
        "img=pltimg.imread('mydecisiontree.png')\n",
        "imgplot = plt.imshow(img)\n",
        "plt.show()"
      ],
      "execution_count": null,
      "outputs": [
        {
          "output_type": "display_data",
          "data": {
            "image/png": "[encoded data removed]",
            "text/plain": [
              "<Figure size 432x288 with 1 Axes>"
            ]
          },
          "metadata": {
            "tags": [],
            "needs_background": "light"
          }
        }
      ]
    },
    {
      "cell_type": "code",
      "metadata": {
        "id": "2oIUDXXFGK_Y"
      },
      "source": [
        "tree_ypred = dtree.predict(x_test)"
      ],
      "execution_count": null,
      "outputs": []
    },
    {
      "cell_type": "code",
      "metadata": {
        "colab": {
          "base_uri": "https://localhost:8080/"
        },
        "id": "wG1xFf0BGJVE",
        "outputId": "4c34d87a-eae4-4216-c6b7-7555a730e6a7"
      },
      "source": [
        "print(confusion_matrix(y_test,tree_ypred))\n",
        "print(classification_report(y_test,tree_ypred))"
      ],
      "execution_count": null,
      "outputs": [
        {
          "output_type": "stream",
          "text": [
            "[[54 19]\n",
            " [32 69]]\n",
            "              precision    recall  f1-score   support\n",
            "\n",
            "           0       0.63      0.74      0.68        73\n",
            "           1       0.78      0.68      0.73       101\n",
            "\n",
            "    accuracy                           0.71       174\n",
            "   macro avg       0.71      0.71      0.70       174\n",
            "weighted avg       0.72      0.71      0.71       174\n",
            "\n"
          ],
          "name": "stdout"
        }
      ]
    },
    {
      "cell_type": "code",
      "metadata": {
        "colab": {
          "base_uri": "https://localhost:8080/"
        },
        "id": "HP-ebZGRG1BE",
        "outputId": "7f510aa4-2e96-4d22-c502-a80a09f27dcc"
      },
      "source": [
        "Xvis = df.iloc[:,:-1]\n",
        "Yvis = df['finding']\n",
        "pca = PCA(n_components=2).fit_transform(Xvis)\n",
        "x_train, x_test, y_train, y_test = train_test_split(pca, Yvis, test_size=0.20, random_state=4)\n",
        "y_train = y_train.astype('int')\n",
        "y_test = y_test.astype('int')\n",
        "print(\"number of test samples:\", x_test.shape[0])\n",
        "print(\"number of training samples:\",x_train.shape[0])"
      ],
      "execution_count": null,
      "outputs": [
        {
          "output_type": "stream",
          "text": [
            "number of test samples: 174\n",
            "number of training samples: 696\n"
          ],
          "name": "stdout"
        }
      ]
    },
    {
      "cell_type": "code",
      "metadata": {
        "colab": {
          "base_uri": "https://localhost:8080/",
          "height": 281
        },
        "id": "PWKCCfSYG6wj",
        "outputId": "cbbc202f-473c-4c89-d192-80aa39964058"
      },
      "source": [
        "\n",
        "#clf = svm.SVC()\n",
        "dtree.fit(x_train, y_train)\n",
        "x_min, x_max = x_train[:, 0].min() - 1, x_train[:, 0].max() + 1\n",
        "y_min, y_max = x_train[:, 1].min() - 1, x_train[:, 1].max() + 1\n",
        "h = .02\n",
        "xx, yy = np.meshgrid(np.arange(x_min, x_max, h), np.arange(y_min, y_max, h))\n",
        "\n",
        "\n",
        "# Create color maps\n",
        "cmap_light = ListedColormap(['#FFAAAA', '#AAFFAA'])\n",
        "cmap_bold = ListedColormap(['#FF0000', '#00FF00'])\n",
        "# predict class using data and kNN classifier\n",
        "Z = dtree.predict(np.c_[xx.ravel(), yy.ravel()])\n",
        "\n",
        "# Put the result into a color plot\n",
        "Z = Z.reshape(xx.shape)\n",
        "plt.figure()\n",
        "plt.pcolormesh(xx, yy, Z, cmap=cmap_light)\n",
        "\n",
        "# Plot also the training points\n",
        "plt.scatter(x_train[:, 0], x_train[:, 1], c=y_train, cmap=cmap_bold)\n",
        "plt.xlim(xx.min(), xx.max())\n",
        "plt.ylim(yy.min(), yy.max())\n",
        "plt.title(\"2-Class classification \" )\n",
        "plt.show()"
      ],
      "execution_count": null,
      "outputs": [
        {
          "output_type": "display_data",
          "data": {
            "image/png": "[encoded data removed]",
            "text/plain": [
              "<Figure size 432x288 with 1 Axes>"
            ]
          },
          "metadata": {
            "tags": [],
            "needs_background": "light"
          }
        }
      ]
    },
    {
      "cell_type": "markdown",
      "metadata": {
        "id": "tdDNOopn27lk"
      },
      "source": [
        "## 4 - Random Forest Classifier"
      ]
    },
    {
      "cell_type": "code",
      "metadata": {
        "colab": {
          "base_uri": "https://localhost:8080/"
        },
        "id": "WuVhJOXM3tyv",
        "outputId": "7ff81fa5-9b52-4acf-f022-e5ab775b27ca"
      },
      "source": [
        "Xrf = df.iloc[:,:-1]\n",
        "Yrf = df['finding']\n",
        "x_train, x_test, y_train, y_test = train_test_split(Xrf, Yrf, test_size=0.20, random_state=4)\n",
        "y_train = y_train.astype('int')\n",
        "y_test = y_test.astype('int')\n",
        "print(\"number of test samples:\", x_test.shape[0])\n",
        "print(\"number of training samples:\",x_train.shape[0])"
      ],
      "execution_count": null,
      "outputs": [
        {
          "output_type": "stream",
          "text": [
            "number of test samples: 174\n",
            "number of training samples: 696\n"
          ],
          "name": "stdout"
        }
      ]
    },
    {
      "cell_type": "code",
      "metadata": {
        "colab": {
          "base_uri": "https://localhost:8080/"
        },
        "id": "W0v9b8nVHJ-U",
        "outputId": "23f62f17-5461-40a0-a0b9-2c4269b3a342"
      },
      "source": [
        "rf=RandomForestClassifier()\n",
        "rf.fit(x_train,y_train)\n",
        "rf_ypred = rf.predict(x_test)\n",
        "print(confusion_matrix(y_test,rf_ypred))\n",
        "print(classification_report(y_test,rf_ypred))"
      ],
      "execution_count": null,
      "outputs": [
        {
          "output_type": "stream",
          "text": [
            "[[53 20]\n",
            " [30 71]]\n",
            "              precision    recall  f1-score   support\n",
            "\n",
            "           0       0.64      0.73      0.68        73\n",
            "           1       0.78      0.70      0.74       101\n",
            "\n",
            "    accuracy                           0.71       174\n",
            "   macro avg       0.71      0.71      0.71       174\n",
            "weighted avg       0.72      0.71      0.71       174\n",
            "\n"
          ],
          "name": "stdout"
        }
      ]
    },
    {
      "cell_type": "code",
      "metadata": {
        "colab": {
          "base_uri": "https://localhost:8080/"
        },
        "id": "pivoXwq84407",
        "outputId": "40011d1f-417a-4de0-9343-333350a36684"
      },
      "source": [
        "Xvis = df.iloc[:,:-1]\n",
        "Yvis = df['finding']\n",
        "pca = PCA(n_components=2).fit_transform(Xvis)\n",
        "x_train, x_test, y_train, y_test = train_test_split(pca, Yvis, test_size=0.20, random_state=4)\n",
        "y_train = y_train.astype('int')\n",
        "y_test = y_test.astype('int')\n",
        "print(\"number of test samples:\", x_test.shape[0])\n",
        "print(\"number of training samples:\",x_train.shape[0])"
      ],
      "execution_count": null,
      "outputs": [
        {
          "output_type": "stream",
          "text": [
            "number of test samples: 174\n",
            "number of training samples: 696\n"
          ],
          "name": "stdout"
        }
      ]
    },
    {
      "cell_type": "code",
      "metadata": {
        "colab": {
          "base_uri": "https://localhost:8080/",
          "height": 281
        },
        "id": "m6lCWF6Q4-f9",
        "outputId": "c373090f-e079-434e-857d-87c68f50ada6"
      },
      "source": [
        "\n",
        "rf1=RandomForestClassifier()\n",
        "rf1.fit(x_train, y_train)\n",
        "x_min, x_max = x_train[:, 0].min() - 1, x_train[:, 0].max() + 1\n",
        "y_min, y_max = x_train[:, 1].min() - 1, x_train[:, 1].max() + 1\n",
        "h = .02\n",
        "xx, yy = np.meshgrid(np.arange(x_min, x_max, h), np.arange(y_min, y_max, h))\n",
        "\n",
        "\n",
        "# Create color maps\n",
        "cmap_light = ListedColormap(['#FFAAAA', '#AAFFAA'])\n",
        "cmap_bold = ListedColormap(['#FF0000', '#00FF00'])\n",
        "# predict class using data and kNN classifier\n",
        "Z = rf1.predict(np.c_[xx.ravel(), yy.ravel()])\n",
        "\n",
        "# Put the result into a color plot\n",
        "Z = Z.reshape(xx.shape)\n",
        "plt.figure()\n",
        "plt.pcolormesh(xx, yy, Z, cmap=cmap_light)\n",
        "\n",
        "# Plot also the training points\n",
        "plt.scatter(x_train[:, 0], x_train[:, 1], c=y_train, cmap=cmap_bold)\n",
        "plt.xlim(xx.min(), xx.max())\n",
        "plt.ylim(yy.min(), yy.max())\n",
        "plt.title(\"2-Class classification \" )\n",
        "plt.show()"
      ],
      "execution_count": null,
      "outputs": [
        {
          "output_type": "display_data",
          "data": {
            "image/png": "[encoded data removed]",
            "text/plain": [
              "<Figure size 432x288 with 1 Axes>"
            ]
          },
          "metadata": {
            "tags": [],
            "needs_background": "light"
          }
        }
      ]
    },
    {
      "cell_type": "markdown",
      "metadata": {
        "id": "Ieu5PUm-8BtU"
      },
      "source": [
        "## 4 - Logistic Regression : "
      ]
    },
    {
      "cell_type": "code",
      "metadata": {
        "colab": {
          "base_uri": "https://localhost:8080/"
        },
        "id": "5WZMi-yt8sXy",
        "outputId": "b56d9757-6106-4be2-c6f0-9f5d14fdf50b"
      },
      "source": [
        "Xlr = df.iloc[:,:-1]\n",
        "Ylr = df['finding']\n",
        "x_train, x_test, y_train, y_test = train_test_split(Xlr, Ylr, test_size=0.20, random_state=4)\n",
        "y_train = y_train.astype('int')\n",
        "y_test = y_test.astype('int')\n",
        "print(\"number of test samples:\", x_test.shape[0])\n",
        "print(\"number of training samples:\",x_train.shape[0])"
      ],
      "execution_count": null,
      "outputs": [
        {
          "output_type": "stream",
          "text": [
            "number of test samples: 174\n",
            "number of training samples: 696\n"
          ],
          "name": "stdout"
        }
      ]
    },
    {
      "cell_type": "code",
      "metadata": {
        "colab": {
          "base_uri": "https://localhost:8080/"
        },
        "id": "Jw9i2uOm6KJk",
        "outputId": "081d64cf-dff7-41f2-c2c2-b2e97b002188"
      },
      "source": [
        "\n",
        "\n",
        "lr = LogisticRegression(solver='lbfgs',random_state=0)\n",
        "lr.fit(x_train,y_train)\n",
        "lr_ypred = lr.predict(x_test)\n",
        "print(confusion_matrix(y_test,lr_ypred))\n",
        "print(classification_report(y_test,lr_ypred))"
      ],
      "execution_count": null,
      "outputs": [
        {
          "output_type": "stream",
          "text": [
            "[[20 53]\n",
            " [18 83]]\n",
            "              precision    recall  f1-score   support\n",
            "\n",
            "           0       0.53      0.27      0.36        73\n",
            "           1       0.61      0.82      0.70       101\n",
            "\n",
            "    accuracy                           0.59       174\n",
            "   macro avg       0.57      0.55      0.53       174\n",
            "weighted avg       0.58      0.59      0.56       174\n",
            "\n"
          ],
          "name": "stdout"
        }
      ]
    },
    {
      "cell_type": "code",
      "metadata": {
        "colab": {
          "base_uri": "https://localhost:8080/"
        },
        "id": "5ARlshVs9L0w",
        "outputId": "66530fa3-34b5-468b-de47-7c5770385402"
      },
      "source": [
        "Xvis = df.iloc[:,:-1]\n",
        "Yvis = df['finding']\n",
        "pca = PCA(n_components=2).fit_transform(Xvis)\n",
        "x_train, x_test, y_train, y_test = train_test_split(pca, Yvis, test_size=0.20, random_state=4)\n",
        "y_train = y_train.astype('int')\n",
        "y_test = y_test.astype('int')\n",
        "print(\"number of test samples:\", x_test.shape[0])\n",
        "print(\"number of training samples:\",x_train.shape[0])"
      ],
      "execution_count": null,
      "outputs": [
        {
          "output_type": "stream",
          "text": [
            "number of test samples: 174\n",
            "number of training samples: 696\n"
          ],
          "name": "stdout"
        }
      ]
    },
    {
      "cell_type": "code",
      "metadata": {
        "colab": {
          "base_uri": "https://localhost:8080/",
          "height": 281
        },
        "id": "CWXG4Eqm9Q0D",
        "outputId": "e0f05bd8-97da-4d10-9f32-acc9cac17fb1"
      },
      "source": [
        "\n",
        "#clf = svm.SVC()\n",
        "lr.fit(x_train, y_train)\n",
        "x_min, x_max = x_train[:, 0].min() - 1, x_train[:, 0].max() + 1\n",
        "y_min, y_max = x_train[:, 1].min() - 1, x_train[:, 1].max() + 1\n",
        "h = .02\n",
        "xx, yy = np.meshgrid(np.arange(x_min, x_max, h), np.arange(y_min, y_max, h))\n",
        "\n",
        "\n",
        "# Create color maps\n",
        "cmap_light = ListedColormap(['#FFAAAA', '#AAFFAA'])\n",
        "cmap_bold = ListedColormap(['#FF0000', '#00FF00'])\n",
        "# predict class using data and kNN classifier\n",
        "Z = lr.predict(np.c_[xx.ravel(), yy.ravel()])\n",
        "\n",
        "# Put the result into a color plot\n",
        "Z = Z.reshape(xx.shape)\n",
        "plt.figure()\n",
        "plt.pcolormesh(xx, yy, Z, cmap=cmap_light)\n",
        "\n",
        "# Plot also the training points\n",
        "plt.scatter(x_train[:, 0], x_train[:, 1], c=y_train, cmap=cmap_bold)\n",
        "plt.xlim(xx.min(), xx.max())\n",
        "plt.ylim(yy.min(), yy.max())\n",
        "plt.title(\"2-Class classification \" )\n",
        "plt.show()"
      ],
      "execution_count": null,
      "outputs": [
        {
          "output_type": "display_data",
          "data": {
            "image/png": "[encoded data removed]",
            "text/plain": [
              "<Figure size 432x288 with 1 Axes>"
            ]
          },
          "metadata": {
            "tags": [],
            "needs_background": "light"
          }
        }
      ]
    },
    {
      "cell_type": "markdown",
      "metadata": {
        "id": "iYFhZQMkj4EW"
      },
      "source": [
        "#   III - models  Comparison ( pipelines )"
      ]
    },
    {
      "cell_type": "markdown",
      "metadata": {
        "id": "Q37x5LhFmEd4"
      },
      "source": [
        "---\n",
        "\n",
        "Now we have to choose the best model by using pipeline.\n",
        "\n",
        "---"
      ]
    },
    {
      "cell_type": "markdown",
      "metadata": {
        "id": "M9G8FclBmcNT"
      },
      "source": [
        "knn pipeline"
      ]
    },
    {
      "cell_type": "code",
      "metadata": {
        "id": "eXowBfIEk8dr"
      },
      "source": [
        "pipeline_knn=Pipeline([('knn_classifier',KNeighborsClassifier(n_neighbors = 9))])"
      ],
      "execution_count": null,
      "outputs": []
    },
    {
      "cell_type": "markdown",
      "metadata": {
        "id": "al9abdjOmggI"
      },
      "source": [
        "svm pipeline"
      ]
    },
    {
      "cell_type": "code",
      "metadata": {
        "id": "s81DWJ53llw2"
      },
      "source": [
        "pipeline_svm=Pipeline([('svm_classifier',svm.SVC())])"
      ],
      "execution_count": null,
      "outputs": []
    },
    {
      "cell_type": "markdown",
      "metadata": {
        "id": "d_jpiCe7mpAA"
      },
      "source": [
        "decision tree pipeline"
      ]
    },
    {
      "cell_type": "code",
      "metadata": {
        "id": "FWBhvR5ilmEl"
      },
      "source": [
        "pipeline_dt=Pipeline([('dt_classifier',DecisionTreeClassifier())])"
      ],
      "execution_count": null,
      "outputs": []
    },
    {
      "cell_type": "markdown",
      "metadata": {
        "id": "1xD6V2HCmrtZ"
      },
      "source": [
        "random forest pipeline  \n"
      ]
    },
    {
      "cell_type": "code",
      "metadata": {
        "id": "34Ap8ScQlllR"
      },
      "source": [
        "pipeline_rfc=Pipeline([('rfc_classifier',RandomForestClassifier())])"
      ],
      "execution_count": null,
      "outputs": []
    },
    {
      "cell_type": "markdown",
      "metadata": {
        "id": "WMfqvV_Am3l2"
      },
      "source": [
        "logistic regression pipeline "
      ]
    },
    {
      "cell_type": "code",
      "metadata": {
        "id": "6sOhKPgf-APd"
      },
      "source": [
        "\n",
        "pipeline_lr=Pipeline([('lr_classifier',LogisticRegression())])\n"
      ],
      "execution_count": null,
      "outputs": []
    },
    {
      "cell_type": "markdown",
      "metadata": {
        "id": "lyYJ5lLSm_H5"
      },
      "source": [
        "---\n",
        "\n",
        "resplit the data to test and train.\n",
        "\n",
        "---"
      ]
    },
    {
      "cell_type": "code",
      "metadata": {
        "colab": {
          "base_uri": "https://localhost:8080/"
        },
        "id": "iMeC8ptwyaH8",
        "outputId": "7b283ad8-0f6c-4ca6-9286-02700a7e0f33"
      },
      "source": [
        "X = df.iloc[:,:-1]\n",
        "Y = df['finding']\n",
        "x_train, x_test, y_train, y_test = train_test_split(X, Y, test_size=0.20, random_state=4)\n",
        "y_train = y_train.astype('int')\n",
        "y_test = y_test.astype('int')\n",
        "print(\"number of test samples:\", x_test.shape[0])\n",
        "print(\"number of training samples:\",x_train.shape[0])"
      ],
      "execution_count": null,
      "outputs": [
        {
          "output_type": "stream",
          "text": [
            "number of test samples: 174\n",
            "number of training samples: 696\n"
          ],
          "name": "stdout"
        }
      ]
    },
    {
      "cell_type": "markdown",
      "metadata": {
        "id": "9bNTPqv8nNw1"
      },
      "source": [
        "---\n",
        "\n",
        "we gonna fit the data for every model in the pipeline \n",
        "\n",
        "---"
      ]
    },
    {
      "cell_type": "code",
      "metadata": {
        "id": "Jz2G6jkNqyRg"
      },
      "source": [
        "pipelines = [pipeline_knn, pipeline_svm, pipeline_dt, pipeline_rfc, pipeline_lr]\n",
        "\n",
        "best_f1=0.0\n",
        "best_classifier=0\n",
        "best_pipeline=\"\"\n",
        "\n",
        "# Dictionary of pipelines and classifier types for ease of reference\n",
        "pipe_dict = { 0 : 'knn', 1: 'svm', 2: 'Decision Tree', 3: 'RandomForest', 4: 'Logistic Regression'}\n",
        "\n",
        "# Fit the pipelines\n",
        "for pipe in pipelines:\n",
        "\tpipe.fit(x_train, y_train)"
      ],
      "execution_count": null,
      "outputs": []
    },
    {
      "cell_type": "markdown",
      "metadata": {
        "id": "dKkX28mqnjV6"
      },
      "source": [
        "---\n",
        "\n",
        "Displaying the f1 score for every model to see the best one.\n",
        "\n",
        "---"
      ]
    },
    {
      "cell_type": "code",
      "metadata": {
        "colab": {
          "base_uri": "https://localhost:8080/"
        },
        "id": "RK3ejalLyqED",
        "outputId": "cf19292d-4618-4ff1-efa0-88924c40dc0e"
      },
      "source": [
        "for i,model in enumerate(pipelines):\n",
        "    y_pred=model.predict(x_test)\n",
        "    print(\"{} F1 score: {}\".format(pipe_dict[i],f1_score(y_test, y_pred, average='weighted')))"
      ],
      "execution_count": null,
      "outputs": [
        {
          "output_type": "stream",
          "text": [
            "knn F1 score: 0.7453549324238979\n",
            "svm F1 score: 0.4981825005864415\n",
            "Decision Tree F1 score: 0.7087984908414315\n",
            "RandomForest F1 score: 0.7200005379225815\n",
            "Logistic Regression F1 score: 0.5577524272417332\n"
          ],
          "name": "stdout"
        }
      ]
    },
    {
      "cell_type": "markdown",
      "metadata": {
        "id": "J17mywVQn-kp"
      },
      "source": [
        "---\n",
        "\n",
        "Displaying the best model.\n",
        "\n",
        "---"
      ]
    },
    {
      "cell_type": "code",
      "metadata": {
        "colab": {
          "base_uri": "https://localhost:8080/"
        },
        "id": "epLb_u8IzWnO",
        "outputId": "5a5c9165-7403-4ff6-90b2-a71e9a194e45"
      },
      "source": [
        "for i,model in enumerate(pipelines):\n",
        "    y_pred=model.predict(x_test)\n",
        "    if f1_score(y_test, y_pred, average='weighted')>best_f1:\n",
        "        best_f1=f1_score(y_test, y_pred, average='weighted')\n",
        "        best_pipeline=model\n",
        "        best_classifier=i\n",
        "print('Classifier with best f1 score : {}'.format(pipe_dict[best_classifier]))"
      ],
      "execution_count": null,
      "outputs": [
        {
          "output_type": "stream",
          "text": [
            "Classifier with best f1 score : knn\n"
          ],
          "name": "stdout"
        }
      ]
    },
    {
      "cell_type": "markdown",
      "metadata": {
        "id": "yBXVGlFQ8aTa"
      },
      "source": [
        "# IV - Ensemble Learning"
      ]
    },
    {
      "cell_type": "markdown",
      "metadata": {
        "id": "X-05LH0loL2Z"
      },
      "source": [
        "---\n",
        "\n",
        "let's have a random x to predict if has covid or not.\n",
        "\n",
        "---"
      ]
    },
    {
      "cell_type": "code",
      "metadata": {
        "colab": {
          "base_uri": "https://localhost:8080/"
        },
        "id": "QcZ8VVGnTl7h",
        "outputId": "80bc4abe-4378-495a-bf9d-69969d8b3018"
      },
      "source": [
        "x = np.array([1, 0, 40, 78, 30])\n",
        "x = x.reshape(-1, len(x_train.columns))\n",
        "x"
      ],
      "execution_count": null,
      "outputs": [
        {
          "output_type": "execute_result",
          "data": {
            "text/plain": [
              "array([[ 1,  0, 40, 78, 30]])"
            ]
          },
          "metadata": {
            "tags": []
          },
          "execution_count": 35
        }
      ]
    },
    {
      "cell_type": "code",
      "metadata": {
        "id": "GcBGDeNGUvWu"
      },
      "source": [
        "pred = []"
      ],
      "execution_count": null,
      "outputs": []
    },
    {
      "cell_type": "markdown",
      "metadata": {
        "id": "LHRBAapMocaq"
      },
      "source": [
        "---\n",
        "\n",
        "The list pred has every predicted value foreach model.\n",
        "\n",
        "---"
      ]
    },
    {
      "cell_type": "code",
      "metadata": {
        "colab": {
          "base_uri": "https://localhost:8080/"
        },
        "id": "B0skVHtpQXdt",
        "outputId": "3be05d95-a8a4-49b9-cde0-fc9b7bc1fd48"
      },
      "source": [
        "for i,model in enumerate(pipelines):\n",
        "    pred.append(model.predict(x)[0])\n",
        "pred"
      ],
      "execution_count": null,
      "outputs": [
        {
          "output_type": "execute_result",
          "data": {
            "text/plain": [
              "[0, 1, 1, 1, 0]"
            ]
          },
          "metadata": {
            "tags": []
          },
          "execution_count": 48
        }
      ]
    },
    {
      "cell_type": "markdown",
      "metadata": {
        "id": "KFYIniziop7e"
      },
      "source": [
        "---\n",
        "\n",
        "this function return the most common value on  a list using the mode.\n",
        "\n",
        "---"
      ]
    },
    {
      "cell_type": "code",
      "metadata": {
        "id": "x1ZsPjaTYuup"
      },
      "source": [
        "def most_common(List): \n",
        "    return(mode(List)) "
      ],
      "execution_count": null,
      "outputs": []
    },
    {
      "cell_type": "markdown",
      "metadata": {
        "id": "nRh8uGAbo2X6"
      },
      "source": [
        "---\n",
        "\n",
        "The predicted value.\n",
        "\n",
        "---"
      ]
    },
    {
      "cell_type": "code",
      "metadata": {
        "colab": {
          "base_uri": "https://localhost:8080/"
        },
        "id": "zHuTUQuzWVoQ",
        "outputId": "2597053e-64fa-4140-9976-84e24bbb4b53"
      },
      "source": [
        "\n",
        "print(most_common(pred)) "
      ],
      "execution_count": null,
      "outputs": [
        {
          "output_type": "stream",
          "text": [
            "1\n"
          ],
          "name": "stdout"
        }
      ]
    }
  ]
}